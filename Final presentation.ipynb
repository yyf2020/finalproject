{
 "cells": [
  {
   "cell_type": "code",
   "execution_count": 2,
   "metadata": {},
   "outputs": [
    {
     "ename": "ReferenceError",
     "evalue": "ee is not defined",
     "output_type": "error",
     "traceback": [
      "evalmachine.<anonymous>:2",
      "var LABEL_DATA = ee.FeatureCollection('projects/google/demo_landcover_labels')",
      "                 ^",
      "",
      "ReferenceError: ee is not defined",
      "    at evalmachine.<anonymous>:2:18",
      "    at Script.runInThisContext (vm.js:133:18)",
      "    at Object.runInThisContext (vm.js:310:38)",
      "    at run ([eval]:1054:15)",
      "    at onRunRequest ([eval]:888:18)",
      "    at onMessage ([eval]:848:13)",
      "    at process.emit (events.js:315:20)",
      "    at emit (internal/child_process.js:903:12)",
      "    at processTicksAndRejections (internal/process/task_queues.js:81:21)"
     ]
    }
   ],
   "source": [
    "//选择的训练样本, 感谢小亮的《Google Earth Engine（监督分类）》\n",
    "var LABEL_DATA = ee.FeatureCollection('projects/google/demo_landcover_labels')\n",
    "print(LABEL_DATA);\n",
    "function maskL8sr(image) {\n",
    "  var cloudShadowBitMask = (1 << 3);\n",
    "  var cloudsBitMask = (1 << 5);\n",
    "  var qa = image.select('pixel_qa');\n",
    "  var mask = qa.bitwiseAnd(cloudShadowBitMask).eq(0)\n",
    "                .and(qa.bitwiseAnd(cloudsBitMask).eq(0));\n",
    "  return image.updateMask(mask);\n",
    "}\n",
    "var landsatImage = ee.ImageCollection(\"LANDSAT/LC08/C01/T1_SR\")\n",
    "    .filterDate('2019-01-01', '2019-12-31')\n",
    "    .map(maskL8sr)\n",
    "    .mean();\n",
    "// 使用下列波段作为特征\n",
    "var bands = ['B2', 'B3', 'B4', 'B5', 'B6', 'B7'];\n",
    "// 通过要素集在Landsat-8中选取样本，把landcover属性赋予样本\n",
    "var training = landsatImage.select(bands).sampleRegions({\n",
    "  collection: LABEL_DATA,\n",
    "  properties: ['landcover'],\n",
    "  scale: 30\n",
    "});\n",
    "// 做精度评价\n",
    "// 在training要素集中增加一个random属性，值为0到1的随机数\n",
    "var withRandom = training.randomColumn('random');\n",
    "//把生成随机数大于0.7的分成测试数据，否则为训练数据。这样可以把数据分成两份\n",
    "var split = 0.7; \n",
    "var trainingPartition = withRandom.filter(ee.Filter.lt('random', split));\n",
    "var testingPartition = withRandom.filter(ee.Filter.gte('random', split));\n",
    "// 利用70%数据随机森林进行训练\n",
    "var trainedClassifier = ee.Classifier.randomForest(5).train({\n",
    "  features: trainingPartition,\n",
    "  classProperty: 'landcover',\n",
    "  inputProperties: bands\n",
    "});\n",
    "//对Landsat-8进行分类\n",
    "var class_img=landsatImage.select(bands).classify(trainedClassifier)\n",
    "// 对测试数据进行预测\n",
    "var test = testingPartition.classify(trainedClassifier);\n",
    "// 制作混淆矩阵，并打印出来\n",
    "var confusionMatrix = test.errorMatrix('landcover', 'classification');\n",
    "print('Confusion Matrix', confusionMatrix);\n",
    "Map.centerObject(LABEL_DATA);\n",
    "Map.addLayer(class_img, {min: 0, max: 2, palette: ['red', 'green', 'blue']});"
   ]
  },
  {
   "cell_type": "code",
   "execution_count": null,
   "metadata": {},
   "outputs": [],
   "source": []
  }
 ],
 "metadata": {
  "kernelspec": {
   "display_name": "Javascript (Node.js)",
   "language": "javascript",
   "name": "javascript"
  },
  "language_info": {
   "file_extension": ".js",
   "mimetype": "application/javascript",
   "name": "javascript",
   "version": "14.15.3"
  }
 },
 "nbformat": 4,
 "nbformat_minor": 4
}
